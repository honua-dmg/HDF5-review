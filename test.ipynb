{
 "cells": [
  {
   "cell_type": "code",
   "execution_count": null,
   "metadata": {},
   "outputs": [],
   "source": [
    "import h5py as h\n",
    "import numpy as np\n",
    "import pandas as pd\n",
    "#h.run_tests()"
   ]
  },
  {
   "cell_type": "markdown",
   "metadata": {},
   "source": [
    "# MAKING A fILE\n",
    "## making a group\n",
    "## making a dataset"
   ]
  },
  {
   "cell_type": "code",
   "execution_count": null,
   "metadata": {},
   "outputs": [],
   "source": [
    "with h.File('test.hdf5','a') as f:\n",
    "    #grp = f.create_group('foo')\n",
    "    #subgrp = grp.create_group('bar')\n",
    "    #tata_nse = f.create_group(\"tata/nse\")\n",
    "    try:\n",
    "        print('group found')\n",
    "        tata_nse = f['tata/bse']\n",
    "    except Exception:\n",
    "        print(\"group not found, making one right now:\")\n",
    "        tata_nse = f.create_group('tata/bse')\n",
    "        tata_nse.create_dataset('date-today',(10,))\n",
    "        \n",
    "    print(f['tata'].keys())"
   ]
  },
  {
   "cell_type": "code",
   "execution_count": null,
   "metadata": {},
   "outputs": [],
   "source": [
    "with h.File('test.hdf5','a') as f:\n",
    "    date = f['tata/bse']\n",
    "    if not date['date-today11']:\n",
    "        date.create_dataset('date-today11',shape=(0,10),maxshape=(None,10))\n",
    "    date['date-today11']"
   ]
  },
  {
   "cell_type": "code",
   "execution_count": null,
   "metadata": {},
   "outputs": [],
   "source": [
    "np.arange(15)"
   ]
  },
  {
   "cell_type": "code",
   "execution_count": null,
   "metadata": {},
   "outputs": [],
   "source": [
    "with h.File('test.hdf5','a') as f:\n",
    "    date = f['tata/bse']\n",
    "    df = date['date-today11']\n",
    "    df.resize((1,10))\n",
    "    date['date-today11'][0] = np.arange(10)"
   ]
  },
  {
   "cell_type": "code",
   "execution_count": null,
   "metadata": {},
   "outputs": [],
   "source": [
    "with h.File('test.hdf5','a') as f:\n",
    "    df = f['tata/bse/date-today11']\n",
    "    df.attrs['description'] = 'a test'\n",
    "    print(df[0])"
   ]
  },
  {
   "cell_type": "code",
   "execution_count": null,
   "metadata": {},
   "outputs": [],
   "source": [
    "with h.File('test.hdf5','a') as f:\n",
    "    print(f['tata/bse/date-today11'].attrs['description'])"
   ]
  },
  {
   "cell_type": "code",
   "execution_count": null,
   "metadata": {},
   "outputs": [],
   "source": [
    "# appending data\n",
    "with h.File('test.hdf5','a') as f:\n",
    "    df = f['tata/bse/date-today11']\n",
    "    print(df.shape[1])\n",
    "    df.resize((df.shape[0]+1,df.shape[1]))\n",
    "    print(df.shape)"
   ]
  },
  {
   "cell_type": "code",
   "execution_count": null,
   "metadata": {},
   "outputs": [],
   "source": [
    "with h.File('deux.h5','a') as f:\n",
    "\n",
    "    try:\n",
    "        df = f['test/1']\n",
    "    except Exception:\n",
    "        df =f.create_dataset('test/1',data=np.arange(100).reshape(10,10))\n",
    "    \n",
    "    print(pd.DataFrame(df[:]))\n",
    "    "
   ]
  },
  {
   "cell_type": "code",
   "execution_count": null,
   "metadata": {},
   "outputs": [],
   "source": [
    "data = pd.read_hdf('deux.h5',where='test/1')"
   ]
  },
  {
   "cell_type": "code",
   "execution_count": null,
   "metadata": {},
   "outputs": [],
   "source": [
    "data = pd.read_csv('Dept-2024-07-12.csv')"
   ]
  },
  {
   "cell_type": "code",
   "execution_count": null,
   "metadata": {},
   "outputs": [],
   "source": [
    "with h.File('Depth.hdf5','a') as f:\n",
    "    try:\n",
    "        df = f['test/1']\n",
    "        print('data stored!')\n",
    "    except Exception:\n",
    "        df = f.create_dataset('test/1',data=data)\n",
    "\n",
    "    print(pd.DataFrame(df))"
   ]
  },
  {
   "cell_type": "code",
   "execution_count": null,
   "metadata": {},
   "outputs": [],
   "source": [
    "hdf = data.to_hdf('dep.h5',key='test/uno',format='table')"
   ]
  },
  {
   "cell_type": "code",
   "execution_count": null,
   "metadata": {},
   "outputs": [],
   "source": [
    "data = pd.read_hdf('dep.h5',key='test/uno')"
   ]
  },
  {
   "cell_type": "code",
   "execution_count": null,
   "metadata": {},
   "outputs": [],
   "source": [
    "with h.File('dep.h5','a') as f:\n",
    "    #\n",
    "    print(f['test/uno/table'].attrs.keys())\n",
    "    df = f['test/uno/table'].attrs['FIELD_2_NAME']\n",
    "    print(df)\n",
    "    print([name for name,obj in f['test/uno'].items()])"
   ]
  },
  {
   "cell_type": "code",
   "execution_count": 114,
   "metadata": {},
   "outputs": [],
   "source": [
    "data1 = pd.read_csv('Symb-2024-07-12.csv')\n",
    "\n",
    "with h.File('Depth.hdf5','a') as f:\n",
    "    try:\n",
    "        df = f['test/one/testdf']\n",
    "    except Exception:\n",
    "        df = f.create_dataset('test/one/testdf',data=data1)\n",
    "        df.attrs.create('columns',data1.columns.to_list())\n",
    "        cols = df.attrs.get('columns')\n",
    "        print(cols)\n",
    "    #dataframe = pd.DataFrame(data=df,columns=cols)"
   ]
  },
  {
   "cell_type": "markdown",
   "metadata": {},
   "source": [
    "# creating columns attribute"
   ]
  },
  {
   "cell_type": "code",
   "execution_count": 127,
   "metadata": {},
   "outputs": [
    {
     "name": "stdout",
     "output_type": "stream",
     "text": [
      "['ltp' 'vol_traded_today' 'last_traded_time' 'exch_feed_time' 'bid_size'\n",
      " 'ask_size' 'bid_price' 'ask_price' 'last_traded_qty' 'tot_buy_qty'\n",
      " 'tot_sell_qty' 'avg_trade_price' 'low_price' 'high_price' 'lower_ckt'\n",
      " 'upper_ckt' 'open_price' 'prev_close_price' 'ch' 'chp' 'time']\n"
     ]
    }
   ],
   "source": [
    "with h.File('Depth.hdf5','a') as f:\n",
    "    df = f['test/one/testdf']\n",
    "    #df.attrs.create('columns',data1.columns.to_list())\n",
    "    print(df.attrs['columns'])"
   ]
  },
  {
   "cell_type": "markdown",
   "metadata": {},
   "source": [
    "# converting hdf5 to Dataframe"
   ]
  },
  {
   "cell_type": "code",
   "execution_count": 128,
   "metadata": {},
   "outputs": [
    {
     "name": "stdout",
     "output_type": "stream",
     "text": [
      "[[8.61500000e+02 3.89801300e+06 1.72076228e+09 ... 4.80000000e+00\n",
      "  5.60300000e-01 1.72078208e+09]\n",
      " [8.61500000e+02 3.89801300e+06 1.72076228e+09 ... 4.80000000e+00\n",
      "  5.60300000e-01 1.72078208e+09]\n",
      " [8.61350000e+02 3.90251700e+06 1.72076228e+09 ... 4.65000000e+00\n",
      "  5.42800000e-01 1.72078208e+09]\n",
      " ...\n",
      " [8.59850000e+02 7.71396500e+06 1.72077275e+09 ... 3.15000000e+00\n",
      "  3.67700000e-01 1.72079256e+09]\n",
      " [8.59850000e+02 7.71396500e+06 1.72077275e+09 ... 3.15000000e+00\n",
      "  3.67700000e-01 1.72079256e+09]\n",
      " [8.59950000e+02 7.71396500e+06 1.72077275e+09 ... 3.25000000e+00\n",
      "  3.79400000e-01 1.72079256e+09]]\n"
     ]
    }
   ],
   "source": [
    "with h.File('Depth.hdf5','a') as f:\n",
    "    print(f['test/one/testdf'][:])\n",
    "    data= f['test/one/testdf'][:]\n",
    "    #df = pd.DataFrame(f['test/one/testdf'][:],columns=f['test/one/testdf'].attrs['columns'])"
   ]
  },
  {
   "cell_type": "code",
   "execution_count": 153,
   "metadata": {},
   "outputs": [
    {
     "name": "stdout",
     "output_type": "stream",
     "text": [
      "(1455, 21)\n"
     ]
    }
   ],
   "source": [
    "with h.File('Depth.hdf5','a') as f:\n",
    "    print(f['test/one/testdf'].shape)"
   ]
  },
  {
   "cell_type": "markdown",
   "metadata": {},
   "source": [
    "# appending data"
   ]
  },
  {
   "cell_type": "code",
   "execution_count": 168,
   "metadata": {},
   "outputs": [],
   "source": [
    "with h.File('deux.h5','a') as f:\n",
    "    df = f.create_dataset('test/uno/symbollll',shape=(0,21),maxshape=(None,22),compression='gzip',compression_opts=1)\n",
    "    df.attrs['columns'] = list(data.columns)"
   ]
  },
  {
   "cell_type": "code",
   "execution_count": 158,
   "metadata": {},
   "outputs": [
    {
     "data": {
      "text/plain": [
       "array([[8.61500000e+02, 3.89801300e+06, 1.72076228e+09, 1.72076228e+09,\n",
       "        8.40000000e+01, 8.47900000e+03, 8.61450000e+02, 8.61500000e+02,\n",
       "        1.35000000e+02, 6.27677000e+05, 1.78992200e+06, 8.59120000e+02,\n",
       "        8.55300000e+02, 8.61700000e+02, 0.00000000e+00, 0.00000000e+00,\n",
       "        8.56700000e+02, 8.56700000e+02, 4.80000000e+00, 5.60300000e-01,\n",
       "        1.72078208e+09]])"
      ]
     },
     "execution_count": 158,
     "metadata": {},
     "output_type": "execute_result"
    }
   ],
   "source": [
    "data = pd.read_csv('Symb-2024-07-12.csv')\n",
    "np.array(data.head(1)).reshape((1,21))"
   ]
  },
  {
   "cell_type": "code",
   "execution_count": 169,
   "metadata": {},
   "outputs": [
    {
     "name": "stdout",
     "output_type": "stream",
     "text": [
      "(1, 21)\n"
     ]
    }
   ],
   "source": [
    "with h.File('deux.h5','a') as f:\n",
    "    df = f['test/uno/symbollll']\n",
    "    new_rowlen = df.shape[0]+1\n",
    "    df.resize((new_rowlen,df.shape[1]))  # this is a point of inefficiency, how do we deal with this??\n",
    "\n",
    "    df[new_rowlen-1] = np.array(data.head(1)).reshape((1,21))\n",
    "    print(df.shape)\n",
    "    "
   ]
  },
  {
   "cell_type": "code",
   "execution_count": 172,
   "metadata": {},
   "outputs": [],
   "source": [
    "with h.File('deux.h5','a') as f:\n",
    "    df = f['test/uno/symbollll']\n",
    "    test =pd.DataFrame(df[:],columns=df.attrs['columns'])"
   ]
  },
  {
   "cell_type": "code",
   "execution_count": 173,
   "metadata": {},
   "outputs": [
    {
     "data": {
      "text/html": [
       "<div>\n",
       "<style scoped>\n",
       "    .dataframe tbody tr th:only-of-type {\n",
       "        vertical-align: middle;\n",
       "    }\n",
       "\n",
       "    .dataframe tbody tr th {\n",
       "        vertical-align: top;\n",
       "    }\n",
       "\n",
       "    .dataframe thead th {\n",
       "        text-align: right;\n",
       "    }\n",
       "</style>\n",
       "<table border=\"1\" class=\"dataframe\">\n",
       "  <thead>\n",
       "    <tr style=\"text-align: right;\">\n",
       "      <th></th>\n",
       "      <th>ltp</th>\n",
       "      <th>vol_traded_today</th>\n",
       "      <th>last_traded_time</th>\n",
       "      <th>exch_feed_time</th>\n",
       "      <th>bid_size</th>\n",
       "      <th>ask_size</th>\n",
       "      <th>bid_price</th>\n",
       "      <th>ask_price</th>\n",
       "      <th>last_traded_qty</th>\n",
       "      <th>tot_buy_qty</th>\n",
       "      <th>...</th>\n",
       "      <th>avg_trade_price</th>\n",
       "      <th>low_price</th>\n",
       "      <th>high_price</th>\n",
       "      <th>lower_ckt</th>\n",
       "      <th>upper_ckt</th>\n",
       "      <th>open_price</th>\n",
       "      <th>prev_close_price</th>\n",
       "      <th>ch</th>\n",
       "      <th>chp</th>\n",
       "      <th>time</th>\n",
       "    </tr>\n",
       "  </thead>\n",
       "  <tbody>\n",
       "    <tr>\n",
       "      <th>0</th>\n",
       "      <td>861.5</td>\n",
       "      <td>3898013.0</td>\n",
       "      <td>1.720762e+09</td>\n",
       "      <td>1.720762e+09</td>\n",
       "      <td>84.0</td>\n",
       "      <td>8479.0</td>\n",
       "      <td>861.450012</td>\n",
       "      <td>861.5</td>\n",
       "      <td>135.0</td>\n",
       "      <td>627677.0</td>\n",
       "      <td>...</td>\n",
       "      <td>859.119995</td>\n",
       "      <td>855.299988</td>\n",
       "      <td>861.700012</td>\n",
       "      <td>0.0</td>\n",
       "      <td>0.0</td>\n",
       "      <td>856.700012</td>\n",
       "      <td>856.700012</td>\n",
       "      <td>4.8</td>\n",
       "      <td>0.5603</td>\n",
       "      <td>1.720782e+09</td>\n",
       "    </tr>\n",
       "  </tbody>\n",
       "</table>\n",
       "<p>1 rows × 21 columns</p>\n",
       "</div>"
      ],
      "text/plain": [
       "     ltp  vol_traded_today  last_traded_time  exch_feed_time  bid_size  \\\n",
       "0  861.5         3898013.0      1.720762e+09    1.720762e+09      84.0   \n",
       "\n",
       "   ask_size   bid_price  ask_price  last_traded_qty  tot_buy_qty  ...  \\\n",
       "0    8479.0  861.450012      861.5            135.0     627677.0  ...   \n",
       "\n",
       "   avg_trade_price   low_price  high_price  lower_ckt  upper_ckt  open_price  \\\n",
       "0       859.119995  855.299988  861.700012        0.0        0.0  856.700012   \n",
       "\n",
       "   prev_close_price   ch     chp          time  \n",
       "0        856.700012  4.8  0.5603  1.720782e+09  \n",
       "\n",
       "[1 rows x 21 columns]"
      ]
     },
     "execution_count": 173,
     "metadata": {},
     "output_type": "execute_result"
    }
   ],
   "source": [
    "test"
   ]
  },
  {
   "cell_type": "code",
   "execution_count": 177,
   "metadata": {},
   "outputs": [
    {
     "data": {
      "text/plain": [
       "array({'ltp': 0    861.5\n",
       "Name: ltp, dtype: float64, 'vol_traded_today': 0    3898013\n",
       "Name: vol_traded_today, dtype: int64, 'last_traded_time': 0    1720762275\n",
       "Name: last_traded_time, dtype: int64, 'exch_feed_time': 0    1720762275\n",
       "Name: exch_feed_time, dtype: int64, 'bid_size': 0    84\n",
       "Name: bid_size, dtype: int64, 'ask_size': 0    8479\n",
       "Name: ask_size, dtype: int64, 'bid_price': 0    861.45\n",
       "Name: bid_price, dtype: float64, 'ask_price': 0    861.5\n",
       "Name: ask_price, dtype: float64, 'last_traded_qty': 0    135\n",
       "Name: last_traded_qty, dtype: int64, 'tot_buy_qty': 0    627677\n",
       "Name: tot_buy_qty, dtype: int64, 'tot_sell_qty': 0    1789922\n",
       "Name: tot_sell_qty, dtype: int64, 'avg_trade_price': 0    859.12\n",
       "Name: avg_trade_price, dtype: float64, 'low_price': 0    855.3\n",
       "Name: low_price, dtype: float64, 'high_price': 0    861.7\n",
       "Name: high_price, dtype: float64, 'lower_ckt': 0    0\n",
       "Name: lower_ckt, dtype: int64, 'upper_ckt': 0    0\n",
       "Name: upper_ckt, dtype: int64, 'open_price': 0    856.7\n",
       "Name: open_price, dtype: float64, 'prev_close_price': 0    856.7\n",
       "Name: prev_close_price, dtype: float64, 'ch': 0    4.8\n",
       "Name: ch, dtype: float64, 'chp': 0    0.5603\n",
       "Name: chp, dtype: float64, 'time': 0    1.720782e+09\n",
       "Name: time, dtype: float64}, dtype=object)"
      ]
     },
     "execution_count": 177,
     "metadata": {},
     "output_type": "execute_result"
    }
   ],
   "source": [
    "np.array(dict(data.head(1)))"
   ]
  },
  {
   "cell_type": "code",
   "execution_count": 178,
   "metadata": {},
   "outputs": [],
   "source": [
    "with h.File('neueu.h5','a') as f:\n",
    "   grp= f.create_group('tst/grp')\n",
    "   grp.attrs['changethis'] = 1"
   ]
  },
  {
   "cell_type": "code",
   "execution_count": 179,
   "metadata": {},
   "outputs": [
    {
     "name": "stdout",
     "output_type": "stream",
     "text": [
      "1\n",
      "2\n"
     ]
    }
   ],
   "source": [
    "with h.File('neueu.h5','a') as f:\n",
    "    grp = f['tst/grp']\n",
    "    print(grp.attrs['changethis'])\n",
    "\n",
    "    grp.attrs['changethis'] = 2\n",
    "    print(grp.attrs['changethis'])"
   ]
  },
  {
   "cell_type": "code",
   "execution_count": null,
   "metadata": {},
   "outputs": [],
   "source": []
  }
 ],
 "metadata": {
  "kernelspec": {
   "display_name": "base",
   "language": "python",
   "name": "python3"
  },
  "language_info": {
   "codemirror_mode": {
    "name": "ipython",
    "version": 3
   },
   "file_extension": ".py",
   "mimetype": "text/x-python",
   "name": "python",
   "nbconvert_exporter": "python",
   "pygments_lexer": "ipython3",
   "version": "3.12.4"
  }
 },
 "nbformat": 4,
 "nbformat_minor": 2
}
