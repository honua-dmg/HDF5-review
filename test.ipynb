{
 "cells": [
  {
   "cell_type": "code",
   "execution_count": 18,
   "metadata": {},
   "outputs": [
    {
     "name": "stdout",
     "output_type": "stream",
     "text": [
      "============================= test session starts ==============================\n",
      "platform darwin -- Python 3.12.4, pytest-8.2.1, pluggy-1.5.0\n",
      "rootdir: /Users/gurusai/programming/LEARN/md5\n",
      "plugins: html-2.0.1, metadata-3.1.1, rerunfailures-14.0, ordering-0.6, seleniumbase-4.28.5, anyio-4.2.0, xdist-3.6.1\n",
      "collected 745 items\n",
      "\n",
      "tests/test_attribute_create.py .......                                   [  0%]\n",
      "tests/test_attrs.py ..........................                           [  4%]\n",
      "tests/test_attrs_data.py .......................                         [  7%]\n",
      "tests/test_base.py ...........                                           [  8%]\n",
      "tests/test_big_endian_file.py ..                                         [  9%]\n",
      "tests/test_completions.py ..                                             [  9%]\n",
      "tests/test_dataset.py .s................................................ [ 16%]\n",
      "..............................s......................................... [ 25%]\n",
      "....................................................s............        [ 34%]\n",
      "tests/test_dataset_getitem.py .......................................... [ 40%]\n",
      ".............................................................            [ 48%]\n",
      "tests/test_dataset_swmr.py ..........                                    [ 49%]\n",
      "tests/test_datatype.py ..                                                [ 50%]\n",
      "tests/test_dimension_scales.py .......................                   [ 53%]\n",
      "tests/test_dims_dimensionproxy.py .                                      [ 53%]\n",
      "tests/test_dtype.py .........................                            [ 56%]\n",
      "tests/test_errors.py ...                                                 [ 57%]\n",
      "tests/test_file.py ............ss......s................................ [ 64%]\n",
      "...EEEE......                                                            [ 65%]\n",
      "tests/test_file2.py .........s..........                                 [ 68%]\n",
      "tests/test_file_alignment.py ...                                         [ 68%]\n",
      "tests/test_file_image.py ..                                              [ 69%]\n",
      "tests/test_filters.py .s..s                                              [ 69%]\n",
      "tests/test_group.py .................................................... [ 76%]\n",
      "..........................................                               [ 82%]\n",
      "tests/test_h5.py .....                                                   [ 83%]\n",
      "tests/test_h5d_direct_chunk.py .........                                 [ 84%]\n",
      "tests/test_h5f.py .s.....                                                [ 85%]\n",
      "tests/test_h5o.py .                                                      [ 85%]\n",
      "tests/test_h5p.py .............                                          [ 87%]\n",
      "tests/test_h5pl.py ......                                                [ 88%]\n",
      "tests/test_h5t.py ...                                                    [ 88%]\n",
      "tests/test_h5z.py ..                                                     [ 88%]\n",
      "tests/test_objects.py ...                                                [ 89%]\n",
      "tests/test_ros3.py ...s                                                  [ 89%]\n",
      "tests/test_selections.py .....                                           [ 90%]\n",
      "tests/test_slicing.py ......................................             [ 95%]\n",
      "tests/test_vds/test_highlevel_vds.py ...........                         [ 96%]\n",
      "tests/test_vds/test_lowlevel_vds.py ....                                 [ 97%]\n",
      "tests/test_vds/test_virtual_source.py ...................                [100%]\n",
      "\n",
      "==================================== ERRORS ====================================\n",
      "_____________________ ERROR at setup of TestMPI.test_mpio ______________________\n",
      "file /opt/anaconda3/lib/python3.12/site-packages/h5py/tests/test_file.py, line 867\n",
      "      def test_mpio(self, mpi_file_name):\n",
      "E       fixture 'mpi_file_name' not found\n",
      ">       available fixtures: LineMatcher, _config_for_test, _pytest, _sys_snapshot, anyio_backend, anyio_backend_name, anyio_backend_options, cache, capfd, capfdbinary, caplog, capsys, capsysbinary, doctest_namespace, include_metadata_in_junit_xml, linecomp, metadata, monkeypatch, pytestconfig, pytester, record_property, record_testsuite_property, record_xml_attribute, recwarn, sb, testdir, testrun_uid, tmp_path, tmp_path_factory, tmpdir, tmpdir_factory, worker_id, writable_file\n",
      ">       use 'pytest --fixtures [testpath]' for help on them.\n",
      "\n",
      "/opt/anaconda3/lib/python3.12/site-packages/h5py/tests/test_file.py:867\n",
      "__________________ ERROR at setup of TestMPI.test_mpio_append __________________\n",
      "file /opt/anaconda3/lib/python3.12/site-packages/h5py/tests/test_file.py, line 875\n",
      "      def test_mpio_append(self, mpi_file_name):\n",
      "E       fixture 'mpi_file_name' not found\n",
      ">       available fixtures: LineMatcher, _config_for_test, _pytest, _sys_snapshot, anyio_backend, anyio_backend_name, anyio_backend_options, cache, capfd, capfdbinary, caplog, capsys, capsysbinary, doctest_namespace, include_metadata_in_junit_xml, linecomp, metadata, monkeypatch, pytestconfig, pytester, record_property, record_testsuite_property, record_xml_attribute, recwarn, sb, testdir, testrun_uid, tmp_path, tmp_path_factory, tmpdir, tmpdir_factory, worker_id, writable_file\n",
      ">       use 'pytest --fixtures [testpath]' for help on them.\n",
      "\n",
      "/opt/anaconda3/lib/python3.12/site-packages/h5py/tests/test_file.py:875\n",
      "__________________ ERROR at setup of TestMPI.test_mpi_atomic ___________________\n",
      "file /opt/anaconda3/lib/python3.12/site-packages/h5py/tests/test_file.py, line 883\n",
      "      def test_mpi_atomic(self, mpi_file_name):\n",
      "E       fixture 'mpi_file_name' not found\n",
      ">       available fixtures: LineMatcher, _config_for_test, _pytest, _sys_snapshot, anyio_backend, anyio_backend_name, anyio_backend_options, cache, capfd, capfdbinary, caplog, capsys, capsysbinary, doctest_namespace, include_metadata_in_junit_xml, linecomp, metadata, monkeypatch, pytestconfig, pytester, record_property, record_testsuite_property, record_xml_attribute, recwarn, sb, testdir, testrun_uid, tmp_path, tmp_path_factory, tmpdir, tmpdir_factory, worker_id, writable_file\n",
      ">       use 'pytest --fixtures [testpath]' for help on them.\n",
      "\n",
      "/opt/anaconda3/lib/python3.12/site-packages/h5py/tests/test_file.py:883\n",
      "__________ ERROR at setup of TestMPI.test_close_multiple_mpio_driver ___________\n",
      "file /opt/anaconda3/lib/python3.12/site-packages/h5py/tests/test_file.py, line 892\n",
      "      def test_close_multiple_mpio_driver(self, mpi_file_name):\n",
      "E       fixture 'mpi_file_name' not found\n",
      ">       available fixtures: LineMatcher, _config_for_test, _pytest, _sys_snapshot, anyio_backend, anyio_backend_name, anyio_backend_options, cache, capfd, capfdbinary, caplog, capsys, capsysbinary, doctest_namespace, include_metadata_in_junit_xml, linecomp, metadata, monkeypatch, pytestconfig, pytester, record_property, record_testsuite_property, record_xml_attribute, recwarn, sb, testdir, testrun_uid, tmp_path, tmp_path_factory, tmpdir, tmpdir_factory, worker_id, writable_file\n",
      ">       use 'pytest --fixtures [testpath]' for help on them.\n",
      "\n",
      "/opt/anaconda3/lib/python3.12/site-packages/h5py/tests/test_file.py:892\n",
      "=============================== warnings summary ===============================\n",
      "../../../../../opt/anaconda3/lib/python3.12/site-packages/h5py/tests/test_file.py:186\n",
      "  /opt/anaconda3/lib/python3.12/site-packages/h5py/tests/test_file.py:186: PytestUnknownMarkWarning: Unknown pytest.mark.mpi_skip - is this a typo?  You can register custom marks to avoid this warning - for details, see https://docs.pytest.org/en/stable/how-to/mark.html\n",
      "    @pytest.mark.mpi_skip\n",
      "\n",
      "../../../../../opt/anaconda3/lib/python3.12/site-packages/h5py/tests/test_file.py:865\n",
      "  /opt/anaconda3/lib/python3.12/site-packages/h5py/tests/test_file.py:865: PytestUnknownMarkWarning: Unknown pytest.mark.mpi - is this a typo?  You can register custom marks to avoid this warning - for details, see https://docs.pytest.org/en/stable/how-to/mark.html\n",
      "    @pytest.mark.mpi\n",
      "\n",
      "../../../../../opt/anaconda3/lib/python3.12/site-packages/h5py/tests/test_h5pl.py:16\n",
      "  /opt/anaconda3/lib/python3.12/site-packages/h5py/tests/test_h5pl.py:16: PytestUnknownMarkWarning: Unknown pytest.mark.mpi_skip - is this a typo?  You can register custom marks to avoid this warning - for details, see https://docs.pytest.org/en/stable/how-to/mark.html\n",
      "    @pytest.mark.mpi_skip\n",
      "\n",
      "../../../../../opt/anaconda3/lib/python3.12/site-packages/h5py/tests/test_h5pl.py:24\n",
      "  /opt/anaconda3/lib/python3.12/site-packages/h5py/tests/test_h5pl.py:24: PytestUnknownMarkWarning: Unknown pytest.mark.mpi_skip - is this a typo?  You can register custom marks to avoid this warning - for details, see https://docs.pytest.org/en/stable/how-to/mark.html\n",
      "    @pytest.mark.mpi_skip\n",
      "\n",
      "../../../../../opt/anaconda3/lib/python3.12/site-packages/h5py/tests/test_h5pl.py:34\n",
      "  /opt/anaconda3/lib/python3.12/site-packages/h5py/tests/test_h5pl.py:34: PytestUnknownMarkWarning: Unknown pytest.mark.mpi_skip - is this a typo?  You can register custom marks to avoid this warning - for details, see https://docs.pytest.org/en/stable/how-to/mark.html\n",
      "    @pytest.mark.mpi_skip\n",
      "\n",
      "../../../../../opt/anaconda3/lib/python3.12/site-packages/h5py/tests/test_h5pl.py:44\n",
      "  /opt/anaconda3/lib/python3.12/site-packages/h5py/tests/test_h5pl.py:44: PytestUnknownMarkWarning: Unknown pytest.mark.mpi_skip - is this a typo?  You can register custom marks to avoid this warning - for details, see https://docs.pytest.org/en/stable/how-to/mark.html\n",
      "    @pytest.mark.mpi_skip\n",
      "\n",
      "../../../../../opt/anaconda3/lib/python3.12/site-packages/h5py/tests/test_h5pl.py:54\n",
      "  /opt/anaconda3/lib/python3.12/site-packages/h5py/tests/test_h5pl.py:54: PytestUnknownMarkWarning: Unknown pytest.mark.mpi_skip - is this a typo?  You can register custom marks to avoid this warning - for details, see https://docs.pytest.org/en/stable/how-to/mark.html\n",
      "    @pytest.mark.mpi_skip\n",
      "\n",
      "../../../../../opt/anaconda3/lib/python3.12/site-packages/h5py/tests/test_h5pl.py:63\n",
      "  /opt/anaconda3/lib/python3.12/site-packages/h5py/tests/test_h5pl.py:63: PytestUnknownMarkWarning: Unknown pytest.mark.mpi_skip - is this a typo?  You can register custom marks to avoid this warning - for details, see https://docs.pytest.org/en/stable/how-to/mark.html\n",
      "    @pytest.mark.mpi_skip\n",
      "\n",
      "../../../../../opt/anaconda3/lib/python3.12/site-packages/h5py/tests/test_h5z.py:80\n",
      "  /opt/anaconda3/lib/python3.12/site-packages/h5py/tests/test_h5z.py:80: PytestUnknownMarkWarning: Unknown pytest.mark.mpi_skip - is this a typo?  You can register custom marks to avoid this warning - for details, see https://docs.pytest.org/en/stable/how-to/mark.html\n",
      "    @pytest.mark.mpi_skip\n",
      "\n",
      "../../../../../opt/anaconda3/lib/python3.12/site-packages/h5py/tests/test_ros3.py:26\n",
      "  /opt/anaconda3/lib/python3.12/site-packages/h5py/tests/test_ros3.py:26: PytestUnknownMarkWarning: Unknown pytest.mark.nonetwork - is this a typo?  You can register custom marks to avoid this warning - for details, see https://docs.pytest.org/en/stable/how-to/mark.html\n",
      "    @pytest.mark.nonetwork\n",
      "\n",
      "../../../../../opt/anaconda3/lib/python3.12/site-packages/h5py/tests/test_ros3.py:46\n",
      "  /opt/anaconda3/lib/python3.12/site-packages/h5py/tests/test_ros3.py:46: PytestUnknownMarkWarning: Unknown pytest.mark.nonetwork - is this a typo?  You can register custom marks to avoid this warning - for details, see https://docs.pytest.org/en/stable/how-to/mark.html\n",
      "    @pytest.mark.nonetwork\n",
      "\n",
      "-- Docs: https://docs.pytest.org/en/stable/how-to/capture-warnings.html\n",
      "=========================== short test summary info ============================\n",
      "ERROR tests/test_file.py::TestMPI::test_mpio\n",
      "ERROR tests/test_file.py::TestMPI::test_mpio_append\n",
      "ERROR tests/test_file.py::TestMPI::test_mpi_atomic\n",
      "ERROR tests/test_file.py::TestMPI::test_close_multiple_mpio_driver\n",
      "============ 730 passed, 11 skipped, 11 warnings, 4 errors in 7.28s ============\n"
     ]
    },
    {
     "data": {
      "text/plain": [
       "1"
      ]
     },
     "execution_count": 18,
     "metadata": {},
     "output_type": "execute_result"
    }
   ],
   "source": [
    "import h5py as h\n",
    "h.run_tests()"
   ]
  },
  {
   "cell_type": "markdown",
   "metadata": {},
   "source": [
    "# MAKING A fILE\n",
    "## making a group\n",
    "## making a dataset"
   ]
  },
  {
   "cell_type": "code",
   "execution_count": 19,
   "metadata": {},
   "outputs": [
    {
     "name": "stdout",
     "output_type": "stream",
     "text": [
      "<KeysViewHDF5 ['bse', 'nse']>\n"
     ]
    }
   ],
   "source": [
    "with h.File('test.hdf5','a') as f:\n",
    "    #grp = f.create_group('foo')\n",
    "    #subgrp = grp.create_group('bar')\n",
    "    #tata_nse = f.create_group(\"tata/nse\")\n",
    "    try:\n",
    "        tata_nse = f['tata/bse']\n",
    "    except Exception:\n",
    "        print(\"group not found, making one right now:\")\n",
    "        tata_nse = f.create_group('tata/bse')\n",
    "        tata_nse.create_dataset('date-today')\n",
    "    print(f['tata'].keys())"
   ]
  },
  {
   "cell_type": "code",
   "execution_count": null,
   "metadata": {},
   "outputs": [],
   "source": []
  }
 ],
 "metadata": {
  "kernelspec": {
   "display_name": "base",
   "language": "python",
   "name": "python3"
  },
  "language_info": {
   "codemirror_mode": {
    "name": "ipython",
    "version": 3
   },
   "file_extension": ".py",
   "mimetype": "text/x-python",
   "name": "python",
   "nbconvert_exporter": "python",
   "pygments_lexer": "ipython3",
   "version": "3.12.4"
  }
 },
 "nbformat": 4,
 "nbformat_minor": 2
}
